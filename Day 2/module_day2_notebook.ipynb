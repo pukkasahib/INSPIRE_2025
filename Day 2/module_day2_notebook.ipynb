{
 "cells": [
  {
   "cell_type": "markdown",
   "metadata": {
    "jp-MarkdownHeadingCollapsed": true
   },
   "source": [
    "---\n",
    "# Day 2: Introduction to Machine Learning in Python\n",
    "---\n",
    "\n",
    "## 1. Introduction <a id='l_overview'></a>\n",
    "\n",
    "The goal of today's lecture is to present unsupervised Machine Learning. We will learn about the most typical machine learning problems, such as dimensionality reduction, and how to approach these using the Python programmming language. These are the important concepts that we will cover:\n",
    "\n",
    "- [Machine Learning](#l_ml)\n",
    "- [Data sets](#l_ds)\n",
    "- [Dimensionality reduction](#l_dr) \n",
    "- [Principal Component Analysis (PCA)](#l_pca)\n",
    "\n",
    "## 2. Machine Learning <a id='l_ml'></a>\n",
    "\n",
    "Below is the outline of the field with specific algorithms:\n",
    "\n",
    "1. **Unsupervised Learning** - there is no correct input/output pair \n",
    "    - *Clustering*\n",
    "        - K-Means\n",
    "        - Hierarchical\n",
    "        - Spectral\n",
    "    - *Dimensionality reduction*\n",
    "        - Principal Components Analysis (PCA)\n",
    "        - Multidimensional Scaling (MDS)\n",
    "        - Stochastic Neighbour Embedding (t-SNE)\n",
    "        - Uniform Manifold Approximation and Projection (UMAP)\n",
    "        \n",
    "        \n",
    "2. **Supervised Learning** - there is a correct input/output pair\n",
    "    - *Regression*\n",
    "        - Curve fitting\n",
    "        - Linear regression \n",
    "    - *Classification*\n",
    "        - Linear Classifiers (Support Vector Machines, Logistic regression)\n",
    "        - Decision Trees\n",
    "        - Neural Networks\n"
   ]
  },
  {
   "cell_type": "markdown",
   "metadata": {},
   "source": [
    "## 3. Generating data sets\n",
    "\n",
    "Setup:\n",
    "- Suppose one has $p$ samples of N-dimensional data points, $x_i\\in\\mathbb{R}^N$\n",
    "- Store these samples columnwise as $X\\in\\mathbb{R}^{p\\,\\times\\,N}$\n",
    "- We call this the original data matrix, or simply the data\n",
    "- Assumption: there is a meaningful metric (e.g. Euclidean distance) on the data space (high dim)\n",
    "- Assumption: there is a meaningful metric (e.g. Euclidean distance) on the latent space (low dim)"
   ]
  },
  {
   "cell_type": "code",
   "execution_count": null,
   "metadata": {},
   "outputs": [],
   "source": [
    "import numpy as np\n",
    "import matplotlib.pyplot as plt"
   ]
  },
  {
   "cell_type": "markdown",
   "metadata": {},
   "source": [
    "## 3.1 Generate linear data with noise (2-dimensional data set) with 100 points:"
   ]
  },
  {
   "cell_type": "code",
   "execution_count": null,
   "metadata": {},
   "outputs": [],
   "source": [
    "raw_data_x = np.random.uniform(0,10, size=(100,))\n",
    "raw_data_y = 0.5 * raw_data_x + np.random.normal(0,1,len(raw_data_x))\n",
    "\n",
    "X_2d      = np.empty((100, 2))\n",
    "X_2d[:,0] = raw_data_x\n",
    "X_2d[:,1] = raw_data_y"
   ]
  },
  {
   "cell_type": "markdown",
   "metadata": {},
   "source": [
    "Visualize"
   ]
  },
  {
   "cell_type": "code",
   "execution_count": null,
   "metadata": {},
   "outputs": [],
   "source": [
    "plt.figure(dpi=250, figsize=(3,3))\n",
    "plt.scatter(X_2d[:,0], X_2d[:,1], marker='.', color='dodgerblue', s= 100, edgecolor='k', lw=0.5)\n",
    "plt.xlabel('X', fontsize=8)\n",
    "plt.xticks(fontsize=8)\n",
    "plt.ylabel('Y', fontsize=8)\n",
    "plt.yticks(fontsize=8)\n",
    "plt.title('Two-dimensional dataset', loc='left', fontsize=8)\n",
    "plt.tight_layout()\n",
    "plt.show()"
   ]
  },
  {
   "cell_type": "markdown",
   "metadata": {},
   "source": [
    "Let's look how the data looks like (first 10 points):"
   ]
  },
  {
   "cell_type": "code",
   "execution_count": null,
   "metadata": {},
   "outputs": [],
   "source": [
    "X_2d[:10]"
   ]
  },
  {
   "cell_type": "markdown",
   "metadata": {},
   "source": [
    "## 3.2 Load high-dimensional data from the [MNIST](https://en.wikipedia.org/wiki/MNIST_database) dataset. \n",
    "![](pics/mnist.png)"
   ]
  },
  {
   "cell_type": "markdown",
   "metadata": {},
   "source": [
    "Let's take only 1000 data points"
   ]
  },
  {
   "cell_type": "code",
   "execution_count": null,
   "metadata": {},
   "outputs": [],
   "source": [
    "import pandas as pd\n",
    "df = pd.read_csv('data/mnist_test.csv')\n",
    "df"
   ]
  },
  {
   "cell_type": "code",
   "execution_count": null,
   "metadata": {},
   "outputs": [],
   "source": [
    "my_array = df.values[9995, 1:].reshape((28,28))\n",
    "\n",
    "plt.figure(dpi=200, figsize=(3,3))\n",
    "plt.imshow(my_array, cmap='gray')\n",
    "plt.xticks([])\n",
    "plt.yticks([])\n",
    "plt.tight_layout()\n",
    "plt.show()"
   ]
  },
  {
   "cell_type": "code",
   "execution_count": null,
   "metadata": {},
   "outputs": [],
   "source": [
    "# Goal: take the n-th row of the dataframe and reproduce the pixelated image of the number\n",
    "# np.reshape\n",
    "# plt.imshow()"
   ]
  },
  {
   "cell_type": "markdown",
   "metadata": {},
   "source": [
    "#### Each row represents a number. \n",
    "The image is 28 pixels by 28 pixels. Each pixel assigned a value between 0 and 255 ($2^8 = 256$) which corresponds to shades from white to black. We can store each image (i.e. each number) as a vector instead of a matrix by 'flattening' the vector. i.e. we stack the rows of each image side-by-side. This is why each number is represented by $28 \\times 28 = 784$ numbers. We can now visualize what these data points represent (digital images):"
   ]
  },
  {
   "cell_type": "code",
   "execution_count": null,
   "metadata": {},
   "outputs": [],
   "source": [
    "# Plot the first 20 digits\n",
    "fig, axes = plt.subplots(2, 10, figsize=(16, 6))\n",
    "for i, j in enumerate(np.random.choice(np.arange(1000), size=20)):\n",
    "\n",
    "    # we take each row (iloc) and reshape the vector of 784 numbers back into its 28 x 28 pixel format, and visualize!\n",
    "    image = np.array(df.iloc[j, 1:]).reshape(28,28) # exclude the first element which is row index\n",
    "    label = np.array(df.iloc[j, 0])\n",
    "    axes[i//10, i%10].imshow(image, cmap='gray');\n",
    "    axes[i//10, i%10].axis('off')\n",
    "    axes[i//10, i%10].set_title(f\"digit: {label}\")\n",
    "    \n",
    "plt.tight_layout()"
   ]
  },
  {
   "cell_type": "markdown",
   "metadata": {},
   "source": [
    "### We will only use the first 1000 digits"
   ]
  },
  {
   "cell_type": "code",
   "execution_count": null,
   "metadata": {},
   "outputs": [],
   "source": [
    "X = np.array(df.iloc[:1000, 1:]).reshape(-1, 28, 28)\n",
    "Y = np.array(df.iloc[:1000, 0])\n",
    "print(Y.shape, X.shape)"
   ]
  },
  {
   "cell_type": "code",
   "execution_count": null,
   "metadata": {},
   "outputs": [],
   "source": [
    "plt.imshow(X[565], cmap='gray')\n",
    "print(Y[565])\n",
    "plt.tight_layout()\n",
    "plt.show()"
   ]
  },
  {
   "cell_type": "markdown",
   "metadata": {},
   "source": [
    "We want to convert each data point (picture with a handwritten digit) back to a vector which dimensionality is 28x28 = 784. i.e. to make each 28x28 matrix a flat vector"
   ]
  },
  {
   "cell_type": "code",
   "execution_count": null,
   "metadata": {},
   "outputs": [],
   "source": [
    "X = X.reshape(1000, 784)\n",
    "X[567].shape"
   ]
  },
  {
   "cell_type": "markdown",
   "metadata": {},
   "source": [
    "## Summary - we have two data sets:\n",
    "- 2-dimensional data set with 100 points\n",
    "- 784-dimensional data set with 1000 points"
   ]
  },
  {
   "cell_type": "markdown",
   "metadata": {},
   "source": [
    "## 4. Dimensionality reduction <a id='l_dr'></a>\n",
    "\n",
    "Dimensionality reduction is a technique used in machine learning and data analysis to reduce the number of input features or variables of a dataset while still retaining the important information. This is done by projecting the high-dimensional data onto a lower-dimensional space, while preserving the relevant characteristics of the original data.\n",
    "\n",
    "The main goal of dimensionality reduction is to simplify the dataset and make it more manageable for analysis, visualization, and modeling. It also helps to reduce the risk of overfitting and improve the performance of machine learning models by removing irrelevant or redundant features.\n",
    "\n",
    "There are two main types of dimensionality reduction:\n",
    "\n",
    "- Feature selection: In this method, a subset of the original features is selected based on some criteria, such as correlation or importance.\n",
    "\n",
    "- Feature extraction: In this method, a new set of features is created by transforming the original features into a lower-dimensional space using techniques such as principal component analysis (PCA), singular value decomposition (SVD), or t-distributed stochastic neighbor embedding (t-SNE).\n",
    "\n",
    "Overall, dimensionality reduction is a powerful tool for reducing the complexity of large datasets while still preserving the essential information needed for effective analysis and modeling. You can select a subset of original variables, or find a linear or nonlinear combination of features, or make a projection to lower dimensions. \n",
    "\n",
    "![](pics/dr.png)\n",
    "\n",
    "\n",
    "Methods:\n",
    "- **Principal Components Analysis (PCA)** - linear method to extract dimensions with the highest variance\n",
    "- **Multidimensional Scaling (MDS)** - nonlinear method to project in lower dimensions by saving pairwise distances\n",
    "- **Stochastic Neighbour Embedding (t-SNE)** - making an embedding in lower dimensions by conserving distribution of distances \n",
    "- **Uniform Manifold Approximation and Projection (UMAP)** - projecting the data on manifold into fewer dimensions"
   ]
  },
  {
   "cell_type": "markdown",
   "metadata": {},
   "source": [
    "## 5. Principal Component Analysis <a id='l_dr'></a>\n",
    "\n",
    "### **Math**:\n",
    "\n",
    "- **PCA goal**: Find orthogonal transformation $W$ of the centered data $X_c$ (i.e. $Y=WX_c$) such that variance along subsequent components is maximized (i.e. most variance along first, the second most variance is along the second, etc.); \n",
    "- Note that $X_c$ is $p \\times N$, $W$ is $N \\times N$, $Y$ is $p \\times N$, principal components are the columns of $W$.\n",
    "- Principal components of $X_c$ are typically found via eigendecomposition of covariance matrix $X_c^T X_c$ .\n",
    "- The PCA embedding is $Y=U^T X_c$, where $U$ stores columnwise eigenvectors of $X_c^T X_c$ in decreasing order (by eigenvalue).\n",
    "\n",
    "### Compute principle components via eigenvectors of covariance matrix\n",
    "\n",
    "1. Center data set, i.e. first subtract the mean of the dataset from the dataset.\n",
    "2. Compute the covariance matrix $X_c^T X_c$.\n",
    "3. Compute eigenvectors of $X_c^T X_c$ and order them in terms of decreasing eigenvalues.\n",
    "4. Project the original data onto our new principal components, which are the eigenvectors stored columnwise in a matrix $U$ by $Y=U^T X_c$.\n",
    "5. Compare our step-by-step method to the pythonic library PCA implementation.\n",
    "\n",
    "## Now we apply PCA method to 2D dataset:"
   ]
  },
  {
   "cell_type": "code",
   "execution_count": null,
   "metadata": {},
   "outputs": [],
   "source": [
    "# Step 1\n",
    "\n",
    "X_2d_centered = X_2d - np.mean(X_2d, axis=0)\n",
    "\n",
    "# Visualize\n",
    "fig, axs = plt.subplots(1, 2, figsize=(8, 3), dpi=300)\n",
    "\n",
    "axs[0].scatter(X_2d[:,0], X_2d[:,1], label='original data', color='steelblue', edgecolor='k', lw=0.5,)\n",
    "axs[1].scatter(X_2d_centered[:,0], X_2d_centered[:,1], label='centered data', color='deepskyblue', edgecolor='k', lw=0.5,)\n",
    "axs[0].legend(fancybox=True, shadow=True, fontsize=8)\n",
    "axs[1].legend(fancybox=True, shadow=True, fontsize=8)\n",
    "\n",
    "for ax in axs:\n",
    "    ax.set_xlabel('X')\n",
    "    ax.set_ylabel('Y')\n",
    "\n",
    "plt.tight_layout()\n",
    "plt.show()"
   ]
  },
  {
   "cell_type": "markdown",
   "metadata": {},
   "source": [
    "We see that the data is now centered on the origin (pay attention to the coordinates on the axes).\n",
    "Now compute the transformation:"
   ]
  },
  {
   "cell_type": "code",
   "execution_count": null,
   "metadata": {},
   "outputs": [],
   "source": [
    "# Step 2.\n",
    "Cov = np.dot(np.transpose(X_2d_centered), X_2d_centered)\n",
    "print(\"Covariance matrix:\")\n",
    "print(Cov)"
   ]
  },
  {
   "cell_type": "code",
   "execution_count": null,
   "metadata": {},
   "outputs": [],
   "source": [
    "#Step 3\n",
    "eigvals, W = np.linalg.eig(Cov)\n",
    "print(\"\\nEigenvalues:\")\n",
    "print(eigvals)\n",
    "print(\"\\nEigenvectors (columns)\")\n",
    "print(W)\n",
    "\n",
    "print(\"\\nCheck that eigenvectors are orthogonal by computing their inner product (<w1,w2>=0):\")\n",
    "print(f'Inner product is: {np.dot(W[:,0],W[:,1])}.')\n",
    "\n",
    "print('\\nVariance in the first principal component: {}'.format(eigvals[0]/np.sum(eigvals)))\n",
    "print('Variance in the second principal component: {}'.format(eigvals[1]/np.sum(eigvals)))"
   ]
  },
  {
   "cell_type": "markdown",
   "metadata": {},
   "source": [
    "Let's plot the eigenvectors in comparison to the data"
   ]
  },
  {
   "cell_type": "code",
   "execution_count": null,
   "metadata": {},
   "outputs": [],
   "source": [
    "plt.figure(dpi=300, figsize=(5,3))\n",
    "\n",
    "plt.scatter(X_2d_centered[:,0], X_2d_centered[:,1], color='steelblue', edgecolor='k', lw=0.5, label='data points')\n",
    "plt.xlabel('X', fontsize=8)\n",
    "plt.ylabel('Y', fontsize=8)\n",
    "plt.xticks(fontsize=8)\n",
    "plt.yticks(fontsize=8)\n",
    "plt.title('Two-dimensional dataset', loc='right', fontsize=8)\n",
    "\n",
    "plt.plot([0, W[0][1]*3],[0, W[1][1]*3],'k',lw=2, label='eigenvector 2', ls='--') # scale vector for easier visual\n",
    "plt.plot([0, W[0][0]*5],[0, W[1][0]*5],'k',lw=2, label='eigenvector 1')          # scale vector for easier visual\n",
    "plt.axis('equal')\n",
    "plt.legend(fancybox=True, shadow=True, fontsize=8)\n",
    "plt.tight_layout()\n",
    "plt.show()"
   ]
  },
  {
   "cell_type": "markdown",
   "metadata": {},
   "source": [
    "Now we will apply the transformation to the data and plot the data in the new space. We flip the matrix W and corresponding eigenvalues so that they are ordered the same way as in the theory."
   ]
  },
  {
   "cell_type": "code",
   "execution_count": null,
   "metadata": {},
   "outputs": [],
   "source": [
    "#Step 4\n",
    "\n",
    "# Applying transformation to project our centered data onto the principal components!\n",
    "X_2d_transformed = np.dot(X_2d_centered, W)"
   ]
  },
  {
   "cell_type": "markdown",
   "metadata": {},
   "source": [
    "Visualize:"
   ]
  },
  {
   "cell_type": "code",
   "execution_count": null,
   "metadata": {},
   "outputs": [],
   "source": [
    "plt.figure(dpi=250, figsize=(4,3))\n",
    "plt.scatter(X_2d_transformed[:,0], X_2d_transformed[:,1], color='orchid', edgecolor='k', lw=1, label='data points')\n",
    "plt.title('Two-dimensional dataset transformed with manual PCA', fontsize=5, loc='left')\n",
    "plt.xticks(fontsize=5)\n",
    "plt.yticks(fontsize=5)\n",
    "plt.xlabel('PC 1', fontsize=5)\n",
    "plt.ylabel('PC 2', fontsize=5)\n",
    "plt.xlim(-8, 8)\n",
    "plt.ylim(-4, 4)\n",
    "plt.tight_layout()\n",
    "plt.show()"
   ]
  },
  {
   "cell_type": "markdown",
   "metadata": {},
   "source": [
    "Let's compare our naive implementation to the PCA implementation from sklearn"
   ]
  },
  {
   "cell_type": "raw",
   "metadata": {},
   "source": [
    "from sklearn.decomposition import PCA \n",
    "\n",
    "skl_PCA = PCA(n_components = 2).fit(X_2d) # fit the data to receive eigenvectors of covariance matrix\n",
    "skl_X_2d_transformed = skl_PCA.transform(X_2d) # apply a transformation"
   ]
  },
  {
   "cell_type": "markdown",
   "metadata": {},
   "source": [
    "Visualize and compare:"
   ]
  },
  {
   "cell_type": "code",
   "execution_count": null,
   "metadata": {},
   "outputs": [],
   "source": [
    "# Visualize\n",
    "fig, axs = plt.subplots(1, 2, figsize=(8, 3), dpi=250)\n",
    "\n",
    "axs[0].scatter(skl_X_2d_transformed[:,0], skl_X_2d_transformed[:,1], label='sklearn PCA', color='dodgerblue', edgecolor='k',lw=1)\n",
    "axs[1].scatter(X_2d_transformed[:,0], X_2d_transformed[:,1], label='our own PCA', color='crimson', edgecolor='k',lw=1)\n",
    "axs[0].legend(fancybox=True, shadow=True, fontsize=8)\n",
    "axs[1].legend(fancybox=True, shadow=True, fontsize=8)\n",
    "\n",
    "for ax in axs:\n",
    "    ax.set_xlabel('PC 1')\n",
    "    ax.set_ylabel('PC 2')\n",
    "    ax.set_xlim(-8, 8)\n",
    "    ax.set_ylim(-4, 4)\n",
    "\n",
    "plt.tight_layout()\n",
    "plt.show()"
   ]
  },
  {
   "cell_type": "markdown",
   "metadata": {},
   "source": [
    "#### Points of interest:\n",
    "- Looks identical, up to 180 degree rotation (since a rotation oby 180 is the same thing as multiplication by (-1))!\n",
    "- The 2D data represented by our PCA space looks exactly like the original data, except with some rotation applied to it. Can you explain why this makes sense? (Hint: think about what the rotation achieved with respect to spreading the data along each of the axes.)\n",
    "\n",
    "____\n",
    "We will now truncate the data to one dimension and see how it looks. It's called a simple PCA dimensionality reduction."
   ]
  },
  {
   "cell_type": "code",
   "execution_count": null,
   "metadata": {},
   "outputs": [],
   "source": [
    "print(skl_PCA.explained_variance_ratio_)"
   ]
  },
  {
   "cell_type": "markdown",
   "metadata": {},
   "source": [
    "We notice that >90% of variance is described by the first principal component."
   ]
  },
  {
   "cell_type": "code",
   "execution_count": null,
   "metadata": {},
   "outputs": [],
   "source": [
    "fig, axs = plt.subplots(2, 1, figsize=(5, 3), dpi=250, sharex=True)\n",
    "axs.flatten()\n",
    "\n",
    "axs[0].hist(skl_X_2d_transformed[:,0], label='sklearn PCA', color='wheat', edgecolor='k', lw=1, bins=20)\n",
    "axs[0].legend(fancybox=True, shadow=True, fontsize=8)\n",
    "plt.yticks([])\n",
    "\n",
    "axs[1].scatter(skl_X_2d_transformed[:,0] , np.zeros(shape=skl_X_2d_transformed[:,0].shape), label='sklearn PCA', color='wheat', edgecolor='k', lw=1, marker='o')\n",
    "axs[1].legend(fancybox=True, shadow=True, fontsize=8)\n",
    "\n",
    "for ax in axs:\n",
    "    ax.set_xlabel('PC 1')\n",
    "    \n",
    "plt.tight_layout()\n",
    "plt.show()"
   ]
  },
  {
   "cell_type": "markdown",
   "metadata": {},
   "source": [
    "##### We can see that the data are spread across the first principal components, with no clear clusters."
   ]
  },
  {
   "cell_type": "markdown",
   "metadata": {},
   "source": [
    "## Exercise 5.1\n",
    "\n",
    "Perform principal component analysis on the 1000 points of 784-dimensional MNIST dataset using `sklearn`.\n",
    "The dataset is already in the memory of the Jupyter Notebook under variable `X`. `Y` contains the label of each handwritten digit, i.e. the number, or the class. [Documentation on sklearn PCA](https://scikit-learn.org/stable/modules/generated/sklearn.decomposition.PCA.html) \n",
    "\n",
    "784-dimensional dataset has 784 principal components (PC). \n",
    "\n",
    "1. Plot the percent variance contained in each PC vs PC number. **Hint**: variable `explained_variance_ratio_` may be useful.\n",
    "2. Now plot cumulative percent variance vs number of PC components used. Decide how many PC you need to capture 90% of total variance.\n",
    "2. Use the first two principal components to represent MNIST data set in two dimensions on a scatter plot. Each mnist digit will now be represented as a point. \n",
    "3. Show the image of first two principal eigenvectors, rescaled as 28x28. **Hint**: variable `components_` and function `reshape()` might be useful.\n"
   ]
  },
  {
   "cell_type": "code",
   "execution_count": null,
   "metadata": {},
   "outputs": [],
   "source": [
    "## 1. your code here"
   ]
  },
  {
   "cell_type": "code",
   "execution_count": null,
   "metadata": {},
   "outputs": [],
   "source": [
    "## 2. your code here"
   ]
  },
  {
   "cell_type": "code",
   "execution_count": null,
   "metadata": {},
   "outputs": [],
   "source": [
    "## 3. your code here"
   ]
  },
  {
   "cell_type": "code",
   "execution_count": null,
   "metadata": {},
   "outputs": [],
   "source": [
    "## 4. your code here"
   ]
  }
 ],
 "metadata": {
  "kernelspec": {
   "display_name": "inspire_test",
   "language": "python",
   "name": "inspire_test"
  },
  "language_info": {
   "codemirror_mode": {
    "name": "ipython",
    "version": 3
   },
   "file_extension": ".py",
   "mimetype": "text/x-python",
   "name": "python",
   "nbconvert_exporter": "python",
   "pygments_lexer": "ipython3",
   "version": "3.13.5"
  }
 },
 "nbformat": 4,
 "nbformat_minor": 4
}
